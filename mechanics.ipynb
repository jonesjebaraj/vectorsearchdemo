{
 "cells": [
  {
   "cell_type": "markdown",
   "metadata": {},
   "source": [
    "### Setup"
   ]
  },
  {
   "cell_type": "code",
   "execution_count": null,
   "metadata": {},
   "outputs": [],
   "source": [
    "%pip install openai[datalib]\n",
    "%pip install azure-identity\n",
    "%pip install azure-search-documents==11.4.0b10"
   ]
  },
  {
   "cell_type": "code",
   "execution_count": null,
   "metadata": {},
   "outputs": [],
   "source": [
    "\n",
    "from azure.identity import DefaultAzureCredential\n",
    "import openai\n",
    "from openai.embeddings_utils import cosine_similarity, get_embedding\n",
    "from azure.search.documents import SearchClient\n",
    "from azure.search.documents.models import RawVectorQuery\n",
    "\n",
    "# Replace these with your service-specific values, make sure you give your user access to use these resources, or use keys for auth\n",
    "AZURE_OPENAI_URL = \"<<your openai service url>>\" # your Azure OpenAI instance\n",
    "AZURE_SEARCH_SERVICE = \"<<your search service url>>\" # your Azure Search service\n",
    "AZURE_SEARCH_TINY_INDEX = \"tinyvector\" # A small index we create in this notebook with tiny vectors\n",
    "AZURE_SEARCH_BIGGER_INDEX = \"<<your search index>>\" # Index with richer content, you can create it with the prep scripts in https://github.com/azure-samples/azure-search-openai-demo/, no need to deploy the whole sample\n",
    "\n",
    "creds = DefaultAzureCredential()\n",
    "openai.api_key = creds.get_token(\"https://cognitiveservices.azure.com/.default\").token\n",
    "openai.api_type = \"azure_ad\"\n",
    "openai.api_base = AZURE_OPENAI_URL\n",
    "openai.api_version = \"2022-12-01\""
   ]
  },
  {
   "cell_type": "markdown",
   "metadata": {},
   "source": [
    "### Vector representations"
   ]
  },
  {
   "cell_type": "code",
   "execution_count": null,
   "metadata": {},
   "outputs": [],
   "source": [
    "v = get_embedding(\"hello, world\", engine=\"embedding\")"
   ]
  },
  {
   "cell_type": "code",
   "execution_count": null,
   "metadata": {},
   "outputs": [],
   "source": [
    "len(v)"
   ]
  },
  {
   "cell_type": "markdown",
   "metadata": {},
   "source": [
    "### Document similarity modeled as cosine distance"
   ]
  },
  {
   "cell_type": "code",
   "execution_count": null,
   "metadata": {},
   "outputs": [],
   "source": [
    "sentences1 = ['The new movie is awesome',\n",
    "             'The new movie is awesome',\n",
    "             'The new movie is awesome']\n",
    "\n",
    "sentences2 = ['The dog plays in the garden',\n",
    "              'This recent movie is so good',\n",
    "              'The new movie is awesome']\n",
    "\n",
    "embeddings1 = [get_embedding(s, engine=\"embedding\") for s in sentences1]\n",
    "embeddings2 = [get_embedding(s, engine=\"embedding\") for s in sentences2]\n",
    "\n",
    "for i in range(len(sentences1)):\n",
    "    print(\"{} \\t\\t {} \\t\\t Score: {:.4f}\".format(sentences1[i], sentences2[i], cosine_similarity(embeddings1[i], embeddings2[i])))"
   ]
  },
  {
   "cell_type": "markdown",
   "metadata": {},
   "source": [
    "### Create tiny a vector index"
   ]
  },
  {
   "cell_type": "code",
   "execution_count": null,
   "metadata": {},
   "outputs": [],
   "source": [
    "from azure.search.documents.indexes import SearchIndexClient\n",
    "from azure.search.documents.indexes.models import *\n",
    "\n",
    "index = SearchIndex(\n",
    "    name=AZURE_SEARCH_TINY_INDEX, \n",
    "    fields=[\n",
    "        SimpleField(name=\"id\", type=SearchFieldDataType.String, key=True),\n",
    "        SearchField(name=\"myVector\", \n",
    "                    type=SearchFieldDataType.Collection(SearchFieldDataType.Single), \n",
    "                    searchable=True, \n",
    "                    vector_search_dimensions=3,\n",
    "                    vector_search_profile=\"vprofile\")\n",
    "    ],\n",
    "    vector_search=VectorSearch(\n",
    "        algorithms=[HnswVectorSearchAlgorithmConfiguration(name=\"algo\", parameters=HnswParameters(metric=\"cosine\"))],\n",
    "        profiles=[VectorSearchProfile(name=\"vprofile\", algorithm=\"algo\")]\n",
    "    )\n",
    ")\n",
    "\n",
    "index_client = SearchIndexClient(AZURE_SEARCH_SERVICE, credential=creds)\n",
    "index_client.create_index(index)"
   ]
  },
  {
   "cell_type": "markdown",
   "metadata": {},
   "source": [
    "### Insert a few documents with tiny vectors"
   ]
  },
  {
   "cell_type": "code",
   "execution_count": null,
   "metadata": {},
   "outputs": [],
   "source": [
    "search_client = SearchClient(AZURE_SEARCH_SERVICE, AZURE_SEARCH_TINY_INDEX, credential=creds)\n",
    "search_client.upload_documents(documents=[\n",
    "    {\"id\": \"1\", \"myVector\": [1, 2, 3]},\n",
    "    {\"id\": \"2\", \"myVector\": [1, 1, 3]},\n",
    "    {\"id\": \"3\", \"myVector\": [4, 5, 6]}])"
   ]
  },
  {
   "cell_type": "markdown",
   "metadata": {},
   "source": [
    "### Search using vector similarity"
   ]
  },
  {
   "cell_type": "code",
   "execution_count": null,
   "metadata": {},
   "outputs": [],
   "source": [
    "r = search_client.search(None, vector_queries=[RawVectorQuery(vector=[2, 2, 3], k=3, fields=\"myVector\")])\n",
    "for doc in r:\n",
    "    print(f\"id: {doc['id']}, score: {doc['@search.score']}\")"
   ]
  },
  {
   "cell_type": "markdown",
   "metadata": {},
   "source": [
    "### Searching on a real index"
   ]
  },
  {
   "cell_type": "code",
   "execution_count": null,
   "metadata": {},
   "outputs": [],
   "source": [
    "search_client = SearchClient(AZURE_SEARCH_SERVICE, AZURE_SEARCH_BIGGER_INDEX, credential=creds)"
   ]
  },
  {
   "cell_type": "markdown",
   "metadata": {},
   "source": [
    "#### Pure vector search"
   ]
  },
  {
   "cell_type": "code",
   "execution_count": null,
   "metadata": {},
   "outputs": [],
   "source": [
    "search_query = \"learning about underwater activities\"\n",
    "search_vector = get_embedding(search_query, engine=\"embedding\")\n",
    "r = search_client.search(None, top=5, vector_queries=[RawVectorQuery(vector=search_vector, k=50, fields=\"embedding\")])\n",
    "for doc in r:\n",
    "    content = doc[\"content\"].replace(\"\\n\", \" \")[:150]\n",
    "    print(f\"score: {doc['@search.score']}. {content}\")"
   ]
  },
  {
   "cell_type": "markdown",
   "metadata": {},
   "source": [
    "#### Keyword search and exact matches"
   ]
  },
  {
   "cell_type": "code",
   "execution_count": null,
   "metadata": {},
   "outputs": [],
   "source": [
    "search_query = \"compliance@contoso.com\"\n",
    "search_vector = get_embedding(search_query, engine=\"embedding\")\n",
    "r = search_client.search(None, top=5, vector_queries=[RawVectorQuery(vector=search_vector, k=50, fields=\"embedding\")])\n",
    "for doc in r:\n",
    "    if \"compliance@contoso.com\" in doc[\"content\"]:\n",
    "        content = doc[\"content\"].replace(\"\\n\", \" \")[:150]\n",
    "        print(f\"score: {doc['@search.score']}. {content}\")"
   ]
  },
  {
   "cell_type": "code",
   "execution_count": null,
   "metadata": {},
   "outputs": [],
   "source": [
    "search_query = \"compliance@contoso.com\"\n",
    "r = search_client.search(search_query, top=5)\n",
    "for doc in r:\n",
    "    if \"compliance@contoso.com\" in doc[\"content\"]:\n",
    "        content = doc[\"content\"].replace(\"\\n\", \" \")[:150]\n",
    "        print(f\"score: {doc['@search.score']}. {content}\")"
   ]
  },
  {
   "cell_type": "markdown",
   "metadata": {},
   "source": [
    "#### Hybrid retrieval"
   ]
  },
  {
   "cell_type": "code",
   "execution_count": null,
   "metadata": {},
   "outputs": [],
   "source": [
    "search_query = \"compliance@contoso.com\" # \"learning about underwater activities\"\n",
    "search_vector = get_embedding(search_query, engine=\"embedding\")\n",
    "r = search_client.search(search_query, top=5, vector_queries=[RawVectorQuery(vector=search_vector, k=50, fields=\"embedding\")])\n",
    "for doc in r:\n",
    "    if \"compliance\" in doc[\"content\"].lower():\n",
    "        content = doc[\"content\"].replace(\"\\n\", \" \")[:150]\n",
    "        print(f\"score: {doc['@search.score']}. {content}\")"
   ]
  },
  {
   "cell_type": "markdown",
   "metadata": {},
   "source": [
    "#### Hybrid + Semantic Reranking"
   ]
  },
  {
   "cell_type": "code",
   "execution_count": null,
   "metadata": {},
   "outputs": [],
   "source": [
    "search_query = \"learning about underwater activities\"\n",
    "search_vector = get_embedding(search_query, engine=\"embedding\")\n",
    "r = search_client.search(\n",
    "        search_query,\n",
    "        top=5, \n",
    "        vector_queries=[RawVectorQuery(vector=search_vector, k=50, fields=\"embedding\")],\n",
    "        query_type=\"semantic\",\n",
    "        semantic_configuration_name=\"default\",\n",
    "        query_language=\"en-us\")\n",
    "\n",
    "for doc in r:\n",
    "    content = doc[\"content\"].replace(\"\\n\", \" \")[:150]\n",
    "    print(f\"score: {doc['@search.score']}, reranker: {doc['@search.reranker_score']}. {content}\")"
   ]
  }
 ],
 "metadata": {
  "kernelspec": {
   "display_name": "Python 3",
   "language": "python",
   "name": "python3"
  },
  "language_info": {
   "codemirror_mode": {
    "name": "ipython",
    "version": 3
   },
   "file_extension": ".py",
   "mimetype": "text/x-python",
   "name": "python",
   "nbconvert_exporter": "python",
   "pygments_lexer": "ipython3",
   "version": "3.10.11"
  },
  "orig_nbformat": 4
 },
 "nbformat": 4,
 "nbformat_minor": 2
}
